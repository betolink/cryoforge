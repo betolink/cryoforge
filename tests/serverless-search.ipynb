{
 "cells": [
  {
   "cell_type": "markdown",
   "id": "f04ada8c-35e3-467a-a411-15cdca3bb40e",
   "metadata": {},
   "source": [
    "## ITS_LIVE Serverless Query\n",
    "\n",
    "The serverless search for ITS_LIVE takes advantage of the rustac package, it uses static geoparquet files and queries them with DuckDB.\n",
    "In order to make this search faster, the ITS_LIVE collection has been spatially partitioned in lat-lon squares and Uber's H3 cells. The search uses `get_overlapping_grid_names()` to retrieve the spatial partitions that overlap with a geojson polygon so we don't have to scan the whole collection.\n",
    "\n",
    "This notebook uses 2 approaches, one uses rustac and the STAC API search notation, which is simpler and more user friendly, and a DuckDB only query, which as of now is not totally compelte and doesn't serialize each row into a STAC item. Using DuckDB directly is faster as we avoid the serialization and retrieve only the assets' links."
   ]
  },
  {
   "cell_type": "code",
   "execution_count": 1,
   "id": "578f957f-e647-48a3-8325-f4fe17688282",
   "metadata": {},
   "outputs": [],
   "source": [
    "import json\n",
    "import logging\n",
    "import os\n",
    "import math\n",
    "\n",
    "import rustac\n",
    "import duckdb\n",
    "import s3fs\n",
    "\n",
    "# from pqdm.threads import pqdm\n",
    "from shapely.geometry import shape, box\n",
    "\n",
    "logging.basicConfig()\n",
    "logger = logging.getLogger()\n",
    "logger.setLevel(logging.INFO)\n",
    "\n",
    "\n",
    "# Connect to DuckDB\n",
    "con = duckdb.connect()\n",
    "\n",
    "# Load spatial extension required for the spatial queries\n",
    "con.execute(\"INSTALL spatial\")\n",
    "con.execute(\"LOAD spatial\")\n",
    "\n",
    "\n",
    "colombia = {\n",
    "  \"type\": \"Feature\",\n",
    "  \"geometry\": {\n",
    "    \"type\": \"Polygon\",\n",
    "    \"coordinates\": [\n",
    "          [\n",
    "            [\n",
    "              -76.8118477368562,\n",
    "              10.725951506531445\n",
    "            ],\n",
    "            [\n",
    "              -76.8118477368562,\n",
    "              4.325087420870503\n",
    "            ],\n",
    "            [\n",
    "              -69.60861905318234,\n",
    "              4.325087420870503\n",
    "            ],\n",
    "            [\n",
    "              -69.60861905318234,\n",
    "              10.725951506531445\n",
    "            ],\n",
    "            [\n",
    "              -76.8118477368562,\n",
    "              10.725951506531445\n",
    "            ]\n",
    "          ]\n",
    "        ]\n",
    "  },\n",
    "  \"properties\": {}\n",
    "}\n",
    "\n",
    "hma = {\n",
    "  \"type\": \"Feature\",\n",
    "  \"properties\": {},\n",
    "  \"geometry\": {\n",
    "    \"type\": \"Polygon\",\n",
    "    \"coordinates\": [\n",
    "      [\n",
    "        [83.221436, 31.503629],\n",
    "        [84.968262, 31.503629],\n",
    "        [84.968262, 32.833443],\n",
    "        [83.221436, 32.833443],\n",
    "        [83.221436, 31.503629]\n",
    "      ]\n",
    "    ]\n",
    "  }\n",
    "}\n",
    "\n",
    "greenland = {\n",
    "  \"type\": \"Feature\",\n",
    "  \"properties\": {},\n",
    "  \"geometry\": {\n",
    "    \"type\": \"Polygon\",\n",
    "    \"coordinates\": [\n",
    "    [\n",
    "        [-45.05, 61.93527564358849],\n",
    "        [-44.537947278569234, 61.93439779524844],\n",
    "        [-44.07595464722729, 61.931764440940775],\n",
    "        [-43.61408214918781, 61.927376152621925],\n",
    "        [-43.1523897340054, 61.92123388294972],\n",
    "        [-43.13737905069332, 62.13891672639419],\n",
    "        [-43.122122552714636, 62.35679581675177],\n",
    "        [-43.10661415425373, 62.57486983167596],\n",
    "        [-43.09084756700362, 62.793137439704125],\n",
    "        [-43.56790381583535, 62.79950724447399],\n",
    "        [-44.04515874612781, 62.804058153589295],\n",
    "        [-44.52254622269042, 62.80678911869741],\n",
    "        [-45.05, 62.80769951036124],\n",
    "        [-45.05, 62.5892987291677],\n",
    "        [-45.05, 62.37109363832143],\n",
    "        [-45.05, 62.153085518672796],\n",
    "        [-45.05, 61.93527564358849]]\n",
    "    ]\n",
    "  }\n",
    "}"
   ]
  },
  {
   "cell_type": "markdown",
   "id": "c8e826af-0b66-49c0-afe2-333996799886",
   "metadata": {},
   "source": [
    "### Serverless Search logic"
   ]
  },
  {
   "cell_type": "code",
   "execution_count": 2,
   "id": "c9a65ea0-457c-49b3-ba36-e0195b19f845",
   "metadata": {},
   "outputs": [],
   "source": [
    "def get_overlapping_grid_names(geojson_geometry: dict = {},\n",
    "                               base_href: str = \"s3://its-live-data/test-space/stac/geoparquet/latlon\",\n",
    "                               partition_type: str = \"latlon\",\n",
    "                               resolution: int = 2,\n",
    "                               overlap: str = \"overlap\"):\n",
    "    \"\"\"\n",
    "    Generates a list of S3 path prefixes corresponding to spatial grid tiles that overlap\n",
    "    with the provided GeoJSON geometry. These paths are intended for discovering Parquet files\n",
    "    in a spatially partitioned STAC dataset.\n",
    "\n",
    "    This is a workaround: ideally, spatial filtering should be handled within the Parquet metadata\n",
    "    or using spatial indices rather than inferring intersecting tiles manually.\n",
    "\n",
    "    Parameters:\n",
    "    ----------\n",
    "    geojson_geometry : dict, optional\n",
    "        A GeoJSON geometry dictionary specifying the spatial region of interest.\n",
    "        The function will find grid cells (by centroid) that intersect with this geometry.\n",
    "    base_href : str, optional\n",
    "        The base S3 path where partitioned STAC data is stored. The function will append\n",
    "        grid identifiers and mission names to this prefix.\n",
    "    partition_type : str, optional\n",
    "        Type of partitioning used. Supports:\n",
    "        - \"latlon\": Fixed 10x10 degree lat/lon grids with cell names like \"N60W040\"\n",
    "        - \"h3\": H3 hexagonal grid system using resolution and overlap\n",
    "    resolution : int, optional\n",
    "        Only used if `partition_type` is \"h3\". Specifies the resolution of the H3 hex cells.\n",
    "    overlap : str, optional\n",
    "        Only used if `partition_type` is \"h3\". Passed to the `h3shape_to_cells_experimental` function\n",
    "        to control overlap behavior.\n",
    "\n",
    "    Returns:\n",
    "    -------\n",
    "    List[str]\n",
    "        A list of valid S3-style path prefixes (with wildcards) that point to `.parquet` files\n",
    "        under spatial partitions overlapping the input geometry.\n",
    "    \n",
    "    \"\"\"\n",
    "    if partition_type == \"latlon\":\n",
    "        # ITS_LIVE uses a fixed 10 by 10 grid  (centroid as name for the cell e.g. N60W040)\n",
    "        def lat_prefix(lat):\n",
    "            return f\"N{abs(lat):02d}\" if lat >= 0 else f\"S{abs(lat):02d}\"\n",
    "\n",
    "        def lon_prefix(lon):\n",
    "            return f\"E{abs(lon):03d}\" if lon >= 0 else f\"W{abs(lon):03d}\"\n",
    "            \n",
    "        geom = shape(geojson_geometry)\n",
    "        missions = [\"landsatOLI\", \"sentinel1\", \"sentinel2\"]\n",
    "        \n",
    "        if not geom.is_valid:\n",
    "            geom = geom.buffer(0)\n",
    "    \n",
    "        minx, miny, maxx, maxy = geom.bounds\n",
    "    \n",
    "        # Center-based grid! \n",
    "        lon_center_start = int(math.floor((minx - 5) / 10.0)) * 10\n",
    "        lon_center_end   = int(math.ceil((maxx + 5) / 10.0)) * 10\n",
    "        lat_center_start = int(math.floor((miny - 5) / 10.0)) * 10\n",
    "        lat_center_end   = int(math.ceil((maxy + 5) / 10.0)) * 10\n",
    "        \n",
    "        grids = set()\n",
    "        for lon_c in range(lon_center_start, lon_center_end + 1, 10):\n",
    "            for lat_c in range(lat_center_start, lat_center_end + 1, 10):\n",
    "                tile = box(lon_c - 5, lat_c - 5, lon_c + 5, lat_c + 5)\n",
    "                if geom.intersects(tile):\n",
    "                    name = f\"{lat_prefix(lat_c)}{lon_prefix(lon_c)}\"\n",
    "                    grids.add(name)\n",
    "                    \n",
    "        prefixes = [f\"{base_href}/{p}/{i}\" for p in missions for i in list(grids)]\n",
    "        search_prefixes = [f\"{path}/**/*.parquet\" for path in prefixes if path_exists(path)]       \n",
    "        return search_prefixes\n",
    "    elif partition_type==\"h3\":\n",
    "        import h3\n",
    "        grids_hex = h3.h3shape_to_cells_experimental(h3.geo_to_h3shape(geojson_geometry), resolution, overlap)\n",
    "        grids = [int(hs, 16) for hs in grids_hex]\n",
    "        prefixes = [f\"{base_href}/{p}\" for p in grids]\n",
    "        search_prefixes = [f\"{prefix}/**/*.parquet\" for prefix in prefixes if path_exists(prefix)]\n",
    "        return search_prefixes\n",
    "    else:\n",
    "        raise NotImplementedError(f\"Partition {partition_type} not implemented.\")\n",
    "\n",
    "def expr_to_sql(expr):\n",
    "    \"\"\"\n",
    "    Transform a cql expression into SQL, I wonder if the library does it.\n",
    "    \"\"\"\n",
    "    op = expr[\"op\"]\n",
    "    left, right = expr[\"args\"]\n",
    "    \n",
    "    # Get property name if dict with \"property\" key, else literal\n",
    "    def val_to_sql(val):\n",
    "        if isinstance(val, dict) and \"property\" in val:\n",
    "            prop = val[\"property\"]\n",
    "            if not prop.isidentifier():\n",
    "                return f'\"{prop}\"'\n",
    "            return prop\n",
    "        elif isinstance(val, str):\n",
    "            # quote strings\n",
    "            return f\"'{val}'\"\n",
    "        else:\n",
    "            return str(val)\n",
    "\n",
    "    left_sql = val_to_sql(left)\n",
    "    right_sql = val_to_sql(right)\n",
    "\n",
    "    # Map operators\n",
    "    op_map = {\n",
    "        \"=\": \"=\",\n",
    "        \"==\": \"=\",\n",
    "        \">=\": \">=\",\n",
    "        \"<=\": \"<=\",\n",
    "        \">\": \">\",\n",
    "        \"<\": \"<\",\n",
    "        \"!=\": \"<>\",\n",
    "        \"<>\": \"<>\"\n",
    "    }\n",
    "    sql_op = op_map.get(op, op)\n",
    "    return f\"{left_sql} {sql_op} {right_sql}\"\n",
    "\n",
    "def filters_to_where(filters):\n",
    "    # filters is a list of expressions combined with AND\n",
    "    sql_parts = [expr_to_sql(f) for f in filters]\n",
    "    return \" AND \".join(sql_parts)\n",
    "    \n",
    "def path_exists(path: str) -> bool:\n",
    "    if path.startswith(\"s3://\"):\n",
    "        fs = s3fs.S3FileSystem(anon=True)\n",
    "        return fs.exists(path)\n",
    "    else:\n",
    "        return os.path.exists(path)\n",
    "\n",
    "def build_cql2_filter(filters_list):\n",
    "    if not filters_list:\n",
    "        return None\n",
    "    return filters_list[0] if len(filters_list) == 1 else {\"op\": \"and\", \"args\": filters_list}\n",
    "\n",
    "\n",
    "def serverless_search(base_catalog_href: str = \"s3://its-live-data/test-space/stac/geoparquet/latlon\",\n",
    "                      search_kwargs: dict = {},\n",
    "                      engine: str = \"rustac\",\n",
    "                      reduce_spatial_search=True,\n",
    "                      partition_type: str = \"latlon\",\n",
    "                      resolution: int = 2,\n",
    "                      overlap: str = \"overlap\", \n",
    "                      asset_type: str = \".nc\"):\n",
    "    \"\"\"\n",
    "    Performs a serverless!! search over partitioned STAC catalogs stored in Parquet format for the ITS_LIVE project.\n",
    "\n",
    "    Parameters\n",
    "    ----------\n",
    "    base_catalog_href : str\n",
    "        Base URI of the ITS_LIVE STAC catalog or geoparquet collection. This should point to the\n",
    "        root location where spatial partitions are stored (e.g. \"s3://its-live-data/test-space/stac/geoparquet/latlon\").\n",
    "    search_kwargs : dict, optional\n",
    "        Dictionary of search parameters compatible with the STAC API. Can include spatial queries\n",
    "        (e.g., `intersects`) and metadata filters (e.g., `datetime`, `platform`, etc).\n",
    "    engine : str, optional\n",
    "        The backend engine to use for querying. Supported options:\n",
    "        - \"rustac\": Uses the Rust STAC client (`rustac.DuckdbClient`)\n",
    "        - \"duckdb\": Uses DuckDB SQL for querying parquet partitions\n",
    "    reduce_spatial_search : bool, optional\n",
    "        Whether to pre-filter the list of parquet files using overlapping spatial partitions.\n",
    "        If False, all files under the base path will be searched.\n",
    "    partition_type : str, optional\n",
    "        The spatial partitioning scheme used. Supports:\n",
    "        - \"latlon\": 10x10 degree tiles (default)\n",
    "        - \"h3\": Hexagonal grid (requires `resolution` and `overlap`)\n",
    "    resolution : int, optional\n",
    "        Only used if `partition_type` is \"h3\". Defines the granularity of H3 spatial partitioning.\n",
    "    overlap : str, optional\n",
    "        Only used with H3 partitioning. Passed to the `h3shape_to_cells_experimental()` function\n",
    "        to handle partial overlaps.\n",
    "    asset_type : str, optional\n",
    "        A string suffix filter to match asset HREFs (e.g., \".nc\" for NetCDF files).\n",
    "\n",
    "    Returns\n",
    "    -------\n",
    "    List[str]\n",
    "        A list of asset URLs (typically `.nc` NetCDF files) that match the search criteria.\n",
    "\n",
    "    \"\"\"\n",
    "    client = rustac.DuckdbClient()\n",
    "    store = base_catalog_href\n",
    "\n",
    "    if reduce_spatial_search:\n",
    "        if \"intersects\" in search_kwargs:\n",
    "            search_prefixes = get_overlapping_grid_names(base_href=store,\n",
    "                                                         geojson_geometry=search_kwargs[\"intersects\"],\n",
    "                                                         partition_type=partition_type,\n",
    "                                                         resolution=resolution,\n",
    "                                                         overlap=overlap)\n",
    "    else:\n",
    "        if partition_type == \"latlon\":\n",
    "            search_prefixes = [f\"{store}/{mission}/**/*.parquet\" for mission in [\"landsatOLI\", \"sentinel1\", \"sentinel2\"]]\n",
    "        else:\n",
    "            search_prefixes = [f\"{store}/**/*.parquet\"]\n",
    "\n",
    "    print((f\"Searching in {search_prefixes}\"))\n",
    "\n",
    "    filters = search_kwargs.get(\"filter\")\n",
    "    filters_sql = filters_to_where(filters)\n",
    "    search_kwargs[\"filter\"] = build_cql2_filter(filters)\n",
    "\n",
    "    hrefs = []\n",
    "    # TODO: this could run in parallel on a thread or could be passed all to DuckDB/rustac as a combined list of paths.\n",
    "    # for debugging purposes querying one by one is more convenient for now.\n",
    "    for prefix in search_prefixes:\n",
    "        try:\n",
    "            if engine == \"duckdb\":\n",
    "                # TODO: make it more flexible\n",
    "                print(f\"Filters as SQL: {filters_sql}\")\n",
    "                geojson_str = json.dumps(search_kwargs[\"intersects\"])\n",
    "                query = f\"\"\"\n",
    "                    SELECT \n",
    "                        '{prefix}' AS source_parquet,\n",
    "                        assets -> 'data' ->> 'href' AS data_href\n",
    "                    FROM read_parquet('{prefix}', union_by_name=true)\n",
    "                    WHERE ST_Intersects(\n",
    "                        geometry,\n",
    "                        ST_GeomFromGeoJSON('{geojson_str}')\n",
    "                    ) AND {filters_sql}\n",
    "                \"\"\"\n",
    "                items = con.execute(query).df()\n",
    "                links = items[\"data_href\"].to_list()\n",
    "                hrefs.extend(links)\n",
    "            elif engine == \"rustac\":\n",
    "                # can we use include to only bring the asset links?\n",
    "                items = client.search(prefix, **search_kwargs)\n",
    "                for item in items:\n",
    "                    for asset in item[\"assets\"].values():\n",
    "                        if \"data\" in asset[\"roles\"] and asset[\"href\"].endswith(\".nc\"):\n",
    "                            hrefs.append(asset[\"href\"])\n",
    "            else:\n",
    "                raise NotImplementedError(f\"Not a valid query engine: {engine}\")\n",
    "            print(f\"Prefx: {prefix} items found: {len(items)}\")\n",
    "        except Exception as e:\n",
    "            print(f\"Error while searching in {prefix}: {e}\")\n",
    "        \n",
    "    return sorted(list(set(hrefs)))"
   ]
  },
  {
   "cell_type": "code",
   "execution_count": 3,
   "id": "b4a319cc-89d4-42ac-83ca-5af740dc7094",
   "metadata": {},
   "outputs": [
    {
     "name": "stdout",
     "output_type": "stream",
     "text": [
      "Searching in ['s3://its-live-data/test-space/stac/geoparquet/latlon/landsatOLI/N60W040/**/*.parquet', 's3://its-live-data/test-space/stac/geoparquet/latlon/landsatOLI/N60W050/**/*.parquet', 's3://its-live-data/test-space/stac/geoparquet/latlon/sentinel1/N60W040/**/*.parquet', 's3://its-live-data/test-space/stac/geoparquet/latlon/sentinel1/N60W050/**/*.parquet', 's3://its-live-data/test-space/stac/geoparquet/latlon/sentinel2/N60W040/**/*.parquet', 's3://its-live-data/test-space/stac/geoparquet/latlon/sentinel2/N60W050/**/*.parquet']\n",
      "Prefx: s3://its-live-data/test-space/stac/geoparquet/latlon/landsatOLI/N60W040/**/*.parquet items found: 26470\n",
      "Prefx: s3://its-live-data/test-space/stac/geoparquet/latlon/landsatOLI/N60W050/**/*.parquet items found: 0\n",
      "Prefx: s3://its-live-data/test-space/stac/geoparquet/latlon/sentinel1/N60W040/**/*.parquet items found: 4029\n",
      "Prefx: s3://its-live-data/test-space/stac/geoparquet/latlon/sentinel1/N60W050/**/*.parquet items found: 0\n",
      "Prefx: s3://its-live-data/test-space/stac/geoparquet/latlon/sentinel2/N60W040/**/*.parquet items found: 26835\n",
      "Prefx: s3://its-live-data/test-space/stac/geoparquet/latlon/sentinel2/N60W050/**/*.parquet items found: 0\n",
      "CPU times: user 37.4 s, sys: 2.07 s, total: 39.5 s\n",
      "Wall time: 1min 36s\n"
     ]
    },
    {
     "data": {
      "text/plain": [
       "57334"
      ]
     },
     "execution_count": 3,
     "metadata": {},
     "output_type": "execute_result"
    }
   ],
   "source": [
    "%%time\n",
    "\n",
    "filters = [\n",
    "    {\"op\": \">=\", \"args\": [{\"property\": \"percent_valid_pixels\"}, 1]},\n",
    "    {'op': '=', 'args': [{'property': 'proj:code'}, 'EPSG:3413']}\n",
    "]\n",
    "\n",
    "# filters = cql2.parse_text(\"percent_valid_pixels>=1 AND proj:code='EPSG:3413'\").to_json() \n",
    "\n",
    "search_kwargs = {\n",
    "    \"intersects\": greenland[\"geometry\"], # <- has to be in lat lon \n",
    "    # \"datetime\": \"1980-01-01T00:00:00Z/2025-12-31T23:59:59Z\",\n",
    "    \"filter\": filters\n",
    "}\n",
    "\n",
    "catalog_base_href = \"s3://its-live-data/test-space/stac/geoparquet/latlon\"\n",
    "# catalog_base_href = \"../catalog/h3v2r1\"\n",
    "results = serverless_search(catalog_base_href, search_kwargs=search_kwargs)\n",
    "len(results)"
   ]
  },
  {
   "cell_type": "code",
   "execution_count": null,
   "id": "d887234f-5c33-410f-ac0b-2ee74eed80a9",
   "metadata": {},
   "outputs": [],
   "source": [
    "results[0]"
   ]
  },
  {
   "cell_type": "markdown",
   "id": "472c9ecf-1dcc-4674-9bb9-cea9a34a0111",
   "metadata": {},
   "source": [
    "## DuckDB queries using Uber's H3 grid"
   ]
  },
  {
   "cell_type": "code",
   "execution_count": 4,
   "id": "22167b8f-33a2-4c99-b7d1-02a6e079eb78",
   "metadata": {},
   "outputs": [
    {
     "name": "stdout",
     "output_type": "stream",
     "text": [
      "Searching in ['s3://its-live-data/test-space/stac/geoparquet/h3r2/585580101744197631/**/*.parquet', 's3://its-live-data/test-space/stac/geoparquet/h3r2/585587798325592063/**/*.parquet', 's3://its-live-data/test-space/stac/geoparquet/h3r2/585589997348847615/**/*.parquet', 's3://its-live-data/test-space/stac/geoparquet/h3r2/585945689360433151/**/*.parquet']\n",
      "Filters as SQL: percent_valid_pixels >= 1 AND \"proj:code\" = 'EPSG:3413'\n",
      "Prefx: s3://its-live-data/test-space/stac/geoparquet/h3r2/585580101744197631/**/*.parquet items found: 0\n",
      "Filters as SQL: percent_valid_pixels >= 1 AND \"proj:code\" = 'EPSG:3413'\n"
     ]
    },
    {
     "data": {
      "application/vnd.jupyter.widget-view+json": {
       "model_id": "cd2417f0e727472bb04c09134a3b24ad",
       "version_major": 2,
       "version_minor": 0
      },
      "text/plain": [
       "FloatProgress(value=0.0, layout=Layout(width='auto'), style=ProgressStyle(bar_color='black'))"
      ]
     },
     "metadata": {},
     "output_type": "display_data"
    },
    {
     "name": "stdout",
     "output_type": "stream",
     "text": [
      "Prefx: s3://its-live-data/test-space/stac/geoparquet/h3r2/585587798325592063/**/*.parquet items found: 3813\n",
      "Filters as SQL: percent_valid_pixels >= 1 AND \"proj:code\" = 'EPSG:3413'\n"
     ]
    },
    {
     "data": {
      "application/vnd.jupyter.widget-view+json": {
       "model_id": "bd808ea38b1347c7b994058165471200",
       "version_major": 2,
       "version_minor": 0
      },
      "text/plain": [
       "FloatProgress(value=0.0, layout=Layout(width='auto'), style=ProgressStyle(bar_color='black'))"
      ]
     },
     "metadata": {},
     "output_type": "display_data"
    },
    {
     "name": "stdout",
     "output_type": "stream",
     "text": [
      "Prefx: s3://its-live-data/test-space/stac/geoparquet/h3r2/585589997348847615/**/*.parquet items found: 26783\n",
      "Filters as SQL: percent_valid_pixels >= 1 AND \"proj:code\" = 'EPSG:3413'\n"
     ]
    },
    {
     "data": {
      "application/vnd.jupyter.widget-view+json": {
       "model_id": "81400c3a62494a76a30cfb4a994d32e1",
       "version_major": 2,
       "version_minor": 0
      },
      "text/plain": [
       "FloatProgress(value=0.0, layout=Layout(width='auto'), style=ProgressStyle(bar_color='black'))"
      ]
     },
     "metadata": {},
     "output_type": "display_data"
    },
    {
     "name": "stdout",
     "output_type": "stream",
     "text": [
      "Prefx: s3://its-live-data/test-space/stac/geoparquet/h3r2/585945689360433151/**/*.parquet items found: 26738\n",
      "CPU times: user 8.52 s, sys: 606 ms, total: 9.13 s\n",
      "Wall time: 37.6 s\n"
     ]
    },
    {
     "data": {
      "text/plain": [
       "57334"
      ]
     },
     "execution_count": 4,
     "metadata": {},
     "output_type": "execute_result"
    }
   ],
   "source": [
    "%%time\n",
    "\n",
    "filters = [\n",
    "    {\"op\": \">=\", \"args\": [{\"property\": \"percent_valid_pixels\"}, 1]},\n",
    "    {'op': '=', 'args': [{'property': 'proj:code'}, 'EPSG:3413']}\n",
    "]\n",
    "\n",
    "search_kwargs = {\n",
    "    \"intersects\": greenland[\"geometry\"], # <- has to be in lat lon \n",
    "    # \"datetime\": \"1980-01-01T00:00:00Z/2025-12-31T23:59:59Z\",\n",
    "    \"filter\": filters\n",
    "}\n",
    "\n",
    "catalog_base_href = \"s3://its-live-data/test-space/stac/geoparquet/h3r2\" # <- base catalog url changes to use the h3 grids!\n",
    "duck_results = serverless_search(catalog_base_href,\n",
    "                            search_kwargs=search_kwargs,\n",
    "                            engine=\"duckdb\",\n",
    "                            partition_type = \"h3\",\n",
    "                            resolution = 2,\n",
    "                            overlap = \"bbox_overlap\")\n",
    "len(duck_results)"
   ]
  },
  {
   "cell_type": "code",
   "execution_count": 6,
   "id": "559c56fe-6384-45dc-bab2-692ed1cd9993",
   "metadata": {},
   "outputs": [
    {
     "name": "stdout",
     "output_type": "stream",
     "text": [
      "Searching in ['s3://its-live-data/test-space/stac/geoparquet/h3r1/581078701140082687/**/*.parquet', 's3://its-live-data/test-space/stac/geoparquet/h3r1/581087497233104895/**/*.parquet', 's3://its-live-data/test-space/stac/geoparquet/h3r1/581443739000504319/**/*.parquet']\n",
      "Filters as SQL: percent_valid_pixels >= 1 AND \"proj:code\" = 'EPSG:3413'\n"
     ]
    },
    {
     "data": {
      "application/vnd.jupyter.widget-view+json": {
       "model_id": "af80f35542da4da4a49e3c42f3cdb373",
       "version_major": 2,
       "version_minor": 0
      },
      "text/plain": [
       "FloatProgress(value=0.0, layout=Layout(width='auto'), style=ProgressStyle(bar_color='black'))"
      ]
     },
     "metadata": {},
     "output_type": "display_data"
    },
    {
     "name": "stdout",
     "output_type": "stream",
     "text": [
      "Prefx: s3://its-live-data/test-space/stac/geoparquet/h3r1/581078701140082687/**/*.parquet items found: 0\n",
      "Filters as SQL: percent_valid_pixels >= 1 AND \"proj:code\" = 'EPSG:3413'\n"
     ]
    },
    {
     "data": {
      "application/vnd.jupyter.widget-view+json": {
       "model_id": "94b44ba779b04b3c9c1ea53009efe7fa",
       "version_major": 2,
       "version_minor": 0
      },
      "text/plain": [
       "FloatProgress(value=0.0, layout=Layout(width='auto'), style=ProgressStyle(bar_color='black'))"
      ]
     },
     "metadata": {},
     "output_type": "display_data"
    },
    {
     "name": "stdout",
     "output_type": "stream",
     "text": [
      "Prefx: s3://its-live-data/test-space/stac/geoparquet/h3r1/581087497233104895/**/*.parquet items found: 31136\n",
      "Filters as SQL: percent_valid_pixels >= 1 AND \"proj:code\" = 'EPSG:3413'\n"
     ]
    },
    {
     "data": {
      "application/vnd.jupyter.widget-view+json": {
       "model_id": "e7cbbe298f0045f99534b4794f3dba3b",
       "version_major": 2,
       "version_minor": 0
      },
      "text/plain": [
       "FloatProgress(value=0.0, layout=Layout(width='auto'), style=ProgressStyle(bar_color='black'))"
      ]
     },
     "metadata": {},
     "output_type": "display_data"
    },
    {
     "name": "stdout",
     "output_type": "stream",
     "text": [
      "Prefx: s3://its-live-data/test-space/stac/geoparquet/h3r1/581443739000504319/**/*.parquet items found: 26198\n",
      "CPU times: user 7.04 s, sys: 813 ms, total: 7.85 s\n",
      "Wall time: 41.9 s\n"
     ]
    },
    {
     "data": {
      "text/plain": [
       "57334"
      ]
     },
     "execution_count": 6,
     "metadata": {},
     "output_type": "execute_result"
    }
   ],
   "source": [
    "%%time\n",
    "\n",
    "catalog_base_href = \"s3://its-live-data/test-space/stac/geoparquet/h3r1\" # <- base catalog url changes again to use the h3 level 1 grids!\n",
    "\n",
    "filters = [\n",
    "    {\"op\": \">=\", \"args\": [{\"property\": \"percent_valid_pixels\"}, 1]},\n",
    "    {'op': '=', 'args': [{'property': 'proj:code'}, 'EPSG:3413']}\n",
    "]\n",
    "\n",
    "search_kwargs = {\n",
    "    \"intersects\": greenland[\"geometry\"], # <- has to be in lat lon \n",
    "    # \"datetime\": \"1980-01-01T00:00:00Z/2025-12-31T23:59:59Z\",\n",
    "    \"filter\": filters\n",
    "}\n",
    "\n",
    "duck_results = serverless_search(catalog_base_href,\n",
    "                            search_kwargs=search_kwargs,\n",
    "                            engine=\"duckdb\",\n",
    "                            partition_type = \"h3\",\n",
    "                            resolution = 1,\n",
    "                            overlap = \"bbox_overlap\")\n",
    "len(duck_results)"
   ]
  },
  {
   "cell_type": "markdown",
   "id": "faee36e6-08f6-4cf4-8a26-af3e8d6e5279",
   "metadata": {},
   "source": [
    "## STAC API"
   ]
  },
  {
   "cell_type": "code",
   "execution_count": null,
   "id": "2827c9c2-89e3-4c68-adaa-78870bcc10e6",
   "metadata": {},
   "outputs": [],
   "source": [
    "from pystac_client import Client\n",
    "\n",
    "def search_stac(stac_catalog, page_size=100, filter_list=[], **kwargs):\n",
    "    \"\"\"\n",
    "    Returns only the url to the data asset, for ITS_LIVE a netcdf file.\n",
    "    \"\"\"\n",
    "    catalog = Client.open(stac_catalog)\n",
    "    search_kwargs = {\n",
    "        \"collections\": [\"itslive-granules\"],\n",
    "        \"limit\": page_size,\n",
    "        **kwargs\n",
    "    }\n",
    "\n",
    "    def build_cql2_filter(filters_list):\n",
    "        if not filters_list:\n",
    "            return None\n",
    "        return filters_list[0] if len(filters_list) == 1 else {\"op\": \"and\", \"args\": filters_list}\n",
    "    if filter_list:\n",
    "        filters = build_cql2_filter(filter_list)\n",
    "        search_kwargs[\"filter\"] = build_cql2_filter(filters)\n",
    "        search_kwargs[\"filter_lang\"] = \"cql2-json\"\n",
    "\n",
    "    search = catalog.search(**search_kwargs)\n",
    "    \n",
    "    hrefs = []\n",
    "    pages_count = 0\n",
    "    proj_matches = 0\n",
    "    for page in search.pages():\n",
    "        pages_count += 1\n",
    "        for item in page:\n",
    "            for asset in item.assets.values():\n",
    "                if \"data\" in asset.roles and asset.href.endswith(\".nc\"):\n",
    "                    hrefs.append(asset.href)\n",
    "    print(f\"Requested pages: {pages_count}\")\n",
    "    return hrefs"
   ]
  },
  {
   "cell_type": "code",
   "execution_count": null,
   "id": "19f1644d-6b8c-4869-9bfa-abd83161ee6f",
   "metadata": {},
   "outputs": [],
   "source": [
    "%%time\n",
    "\n",
    "filters = [\n",
    "    {\"op\": \">=\", \"args\": [{\"property\": \"percent_valid_pixels\"}, 1]},\n",
    "    {\"op\": \"=\", \"args\": [{\"property\": \"proj:code\"}, \"EPSG:3413\"]}\n",
    "]\n",
    "\n",
    "items = search_stac(\"https://stac.itslive.cloud/\",\n",
    "                    # datetime=\"2010-06-01/2023-06-30\",\n",
    "                    intersects=greenland[\"geometry\"],\n",
    "                    filter_list=filters,\n",
    "                    page_size=2000)\n",
    "len(items)"
   ]
  },
  {
   "cell_type": "markdown",
   "id": "0e4af0d4-6450-43ba-9987-2811a619af9d",
   "metadata": {},
   "source": [
    "## DuckDB queries\n",
    "\n",
    "Because of its size, queryng all the catalog(without spatial punning) is slow over the network.\n",
    "Can we make this more efficient if we use a global dataset instead of these partitioned parquets? probably. "
   ]
  },
  {
   "cell_type": "code",
   "execution_count": 7,
   "id": "150b213c-4425-494c-93b4-e9f18a956e94",
   "metadata": {},
   "outputs": [
    {
     "data": {
      "text/plain": [
       "┌──────────────┐\n",
       "│ count_star() │\n",
       "│    int64     │\n",
       "├──────────────┤\n",
       "│     38158260 │\n",
       "└──────────────┘"
      ]
     },
     "execution_count": 7,
     "metadata": {},
     "output_type": "execute_result"
    }
   ],
   "source": [
    "%%time\n",
    "\n",
    "catalog_url = \"s3://its-live-data/test-space/stac/geoparquet/latlon\"\n",
    "\n",
    "duckdb.sql(f\"select count(*) from read_parquet('{catalog_url}/**/*.parquet', union_by_name=true)\")"
   ]
  },
  {
   "cell_type": "markdown",
   "id": "1cb842dd-b796-4e7e-9e26-50b7569f923f",
   "metadata": {},
   "source": [
    "This query will use a local copy"
   ]
  },
  {
   "cell_type": "code",
   "execution_count": 9,
   "id": "36cd868c-fbaa-43ba-94d9-711663e5ebbb",
   "metadata": {},
   "outputs": [
    {
     "data": {
      "application/vnd.jupyter.widget-view+json": {
       "model_id": "563cfd2506c8447995f1166dc3aba46a",
       "version_major": 2,
       "version_minor": 0
      },
      "text/plain": [
       "FloatProgress(value=0.0, layout=Layout(width='auto'), style=ProgressStyle(bar_color='black'))"
      ]
     },
     "metadata": {},
     "output_type": "display_data"
    },
    {
     "name": "stdout",
     "output_type": "stream",
     "text": [
      "CPU times: user 28.6 s, sys: 3.29 s, total: 31.9 s\n",
      "Wall time: 6.09 s\n"
     ]
    },
    {
     "data": {
      "text/plain": [
       "57334"
      ]
     },
     "execution_count": 9,
     "metadata": {},
     "output_type": "execute_result"
    }
   ],
   "source": [
    "%%time\n",
    "\n",
    "\n",
    "catalog_url = \"../catalog/geoparquet\"\n",
    "\n",
    "filters = [\n",
    "    {\"op\": \">=\", \"args\": [{\"property\": \"percent_valid_pixels\"}, 1]},\n",
    "    {\"op\": \"=\", \"args\": [{\"property\": \"proj:code\"}, \"EPSG:3413\"]}\n",
    "]\n",
    "\n",
    "geojson_str = json.dumps(greenland[\"geometry\"])\n",
    "\n",
    "filters_sql = filters_to_where(filters)\n",
    "\n",
    "query = f\"\"\"\n",
    "    SELECT \n",
    "        assets -> 'data' ->> 'href' AS data_href\n",
    "    FROM read_parquet('{catalog_url}/**/*.parquet', union_by_name=true)\n",
    "    WHERE ST_Intersects(\n",
    "        geometry,\n",
    "        ST_GeomFromGeoJSON('{geojson_str}')\n",
    "    ) AND {filters_sql}\n",
    "\"\"\"\n",
    "\n",
    "items = con.execute(query).df()\n",
    "links = items[\"data_href\"].to_list()\n",
    "len(links)"
   ]
  }
 ],
 "metadata": {
  "kernelspec": {
   "display_name": "Python 3 (ipykernel)",
   "language": "python",
   "name": "python3"
  },
  "language_info": {
   "codemirror_mode": {
    "name": "ipython",
    "version": 3
   },
   "file_extension": ".py",
   "mimetype": "text/x-python",
   "name": "python",
   "nbconvert_exporter": "python",
   "pygments_lexer": "ipython3",
   "version": "3.13.5"
  }
 },
 "nbformat": 4,
 "nbformat_minor": 5
}
